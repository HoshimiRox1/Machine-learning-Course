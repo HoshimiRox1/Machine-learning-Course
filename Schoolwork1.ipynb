{
 "cells": [
  {
   "cell_type": "markdown",
   "id": "cae25476",
   "metadata": {},
   "source": [
    "### 求1xn矩阵的翻转结果"
   ]
  },
  {
   "cell_type": "code",
   "execution_count": null,
   "id": "532a2e20",
   "metadata": {},
   "outputs": [
    {
     "name": "stdout",
     "output_type": "stream",
     "text": [
      "[7 6 5 4 3 2 1]\n"
     ]
    }
   ],
   "source": [
    "import numpy as np\n",
    "data = np.array([1,2,3,4,5,6,7])\n",
    "\n",
    "data_reverse = np.flip(data)\n",
    "\n",
    "print(data_reverse)\n",
    "\n"
   ]
  },
  {
   "cell_type": "markdown",
   "id": "cf1b660b",
   "metadata": {},
   "source": [
    "### 生成一个10x10的随机数矩阵，并求每一列的最大值"
   ]
  },
  {
   "cell_type": "code",
   "execution_count": 30,
   "id": "f53e02a8",
   "metadata": {},
   "outputs": [
    {
     "name": "stdout",
     "output_type": "stream",
     "text": [
      "[0.96922717 0.93158009 0.93201531 0.87413963 0.88956037 0.69411462\n",
      " 0.93922094 0.95469067 0.89341798 0.9169948 ]\n"
     ]
    }
   ],
   "source": [
    "matrix = np.random.random((10,10))\n",
    "\n",
    "print(matrix.max(axis=0))\n"
   ]
  },
  {
   "cell_type": "markdown",
   "id": "3126dc1c",
   "metadata": {},
   "source": [
    "### 对10x10随机数矩阵进行四舍五入"
   ]
  },
  {
   "cell_type": "code",
   "execution_count": 33,
   "id": "415153b1",
   "metadata": {},
   "outputs": [
    {
     "name": "stdout",
     "output_type": "stream",
     "text": [
      "[[0. 0. 0. 0. 1. 1. 0. 1. 1. 1.]\n",
      " [0. 0. 0. 0. 0. 0. 0. 0. 0. 0.]\n",
      " [0. 0. 1. 1. 0. 0. 0. 0. 0. 1.]\n",
      " [0. 0. 1. 1. 1. 0. 0. 1. 0. 1.]\n",
      " [0. 0. 1. 1. 1. 0. 0. 0. 0. 0.]\n",
      " [1. 0. 0. 1. 1. 0. 1. 0. 0. 1.]\n",
      " [0. 0. 1. 1. 0. 0. 1. 0. 1. 1.]\n",
      " [0. 1. 0. 1. 1. 0. 0. 1. 0. 0.]\n",
      " [1. 1. 0. 0. 0. 0. 1. 1. 1. 0.]\n",
      " [1. 1. 1. 0. 1. 0. 1. 0. 1. 1.]]\n"
     ]
    }
   ],
   "source": [
    "for i in range(0,10):\n",
    "    for j in range(0,10):\n",
    "        matrix[i,j] = matrix[i,j].round()\n",
    "print(matrix)"
   ]
  },
  {
   "cell_type": "markdown",
   "id": "c35113f3",
   "metadata": {},
   "source": [
    "### 求10x10随机矩阵每一列的平均值和标准差"
   ]
  },
  {
   "cell_type": "code",
   "execution_count": 34,
   "id": "b9955e2a",
   "metadata": {},
   "outputs": [
    {
     "name": "stdout",
     "output_type": "stream",
     "text": [
      "[0.3 0.3 0.5 0.6 0.6 0.1 0.4 0.4 0.4 0.6]\n",
      "[0.45825757 0.45825757 0.5        0.48989795 0.48989795 0.3\n",
      " 0.48989795 0.48989795 0.48989795 0.48989795]\n"
     ]
    }
   ],
   "source": [
    "print(matrix.mean(axis=0))\n",
    "print(matrix.std(axis=0))"
   ]
  },
  {
   "cell_type": "markdown",
   "id": "20735e4e",
   "metadata": {},
   "source": [
    "### 对一个3x5x5的张量，第一维的每个矩阵和一个5x5的矩阵相乘"
   ]
  },
  {
   "cell_type": "code",
   "execution_count": null,
   "id": "5889a68b",
   "metadata": {},
   "outputs": [
    {
     "name": "stdout",
     "output_type": "stream",
     "text": [
      "[[[100. 233. 112. 176. 209.]\n",
      "  [ 80. 201. 112. 165. 188.]\n",
      "  [ 61. 183.  90. 108. 152.]\n",
      "  [ 53. 125.  64. 104. 118.]\n",
      "  [101. 230. 106. 194. 211.]]\n",
      "\n",
      " [[ 95. 199. 102. 194. 205.]\n",
      "  [ 57. 125.  70. 124. 130.]\n",
      "  [ 99. 262. 140. 192. 232.]\n",
      "  [ 69. 174.  84. 122. 151.]\n",
      "  [ 39. 125.  92. 111. 138.]]\n",
      "\n",
      " [[ 38. 110.  78. 100. 124.]\n",
      "  [106. 233. 108. 204. 213.]\n",
      "  [ 80. 166.  76. 153. 157.]\n",
      "  [ 63. 166.  96. 138. 170.]\n",
      "  [111. 254. 110. 191. 217.]]]\n"
     ]
    }
   ],
   "source": [
    "tensor = np.random.randint(1,10,size = (3,5,5))\n",
    "matrix = np.random.randint(1,10,size = (5,5))\n",
    "\n",
    "m_result = np.zeros((3,5,5))\n",
    "for i in range(3):\n",
    "    m_result[i] = np.matmul(tensor[i],matrix)\n",
    "print(m_result)\n",
    "\n",
    "# 其实可以直接 result = tensor * matrix \n",
    "# numpy会自动广播"
   ]
  },
  {
   "cell_type": "code",
   "execution_count": null,
   "id": "7cfb42a8",
   "metadata": {},
   "outputs": [],
   "source": []
  }
 ],
 "metadata": {
  "kernelspec": {
   "display_name": "machine",
   "language": "python",
   "name": "python3"
  },
  "language_info": {
   "codemirror_mode": {
    "name": "ipython",
    "version": 3
   },
   "file_extension": ".py",
   "mimetype": "text/x-python",
   "name": "python",
   "nbconvert_exporter": "python",
   "pygments_lexer": "ipython3",
   "version": "3.10.0"
  }
 },
 "nbformat": 4,
 "nbformat_minor": 5
}
